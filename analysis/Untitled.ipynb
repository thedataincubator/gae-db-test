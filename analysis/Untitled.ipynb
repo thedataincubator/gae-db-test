{
 "cells": [
  {
   "cell_type": "code",
   "execution_count": 1,
   "metadata": {},
   "outputs": [],
   "source": [
    "%matplotlib inline\n",
    "import matplotlib\n",
    "matplotlib.rcParams['figure.dpi'] = 144\n",
    "\n",
    "import requests\n",
    "import pandas as pd\n",
    "import numpy as np"
   ]
  },
  {
   "cell_type": "code",
   "execution_count": 2,
   "metadata": {},
   "outputs": [],
   "source": [
    "ENDPOINT = \"http://localhost:8081/add\"\n",
    "\n",
    "REPEAT = 10\n",
    "NS = range(0, 11)\n",
    "\n",
    "data = [requests.get(ENDPOINT, {\"n\": n, \"async\": async}).json()\n",
    "        for _ in xrange(REPEAT)\n",
    "        for n in NS\n",
    "        for async in (0, 1)]"
   ]
  },
  {
   "cell_type": "code",
   "execution_count": 3,
   "metadata": {},
   "outputs": [
    {
     "data": {
      "text/plain": [
       "<matplotlib.axes._subplots.AxesSubplot at 0x10a8edf10>"
      ]
     },
     "execution_count": 3,
     "metadata": {},
     "output_type": "execute_result"
    },
    {
     "data": {
      "image/png": "[encoded data removed]",
      "text/plain": [
       "<Figure size 432x288 with 1 Axes>"
      ]
     },
     "metadata": {},
     "output_type": "display_data"
    }
   ],
   "source": [
    "def drop_highest(series):\n",
    "    return series.nsmallest(len(series) - 1)\n",
    "\n",
    "df = pd.DataFrame(data)\n",
    "\n",
    "times = (df.groupby([\"async\", \"objects\"])[\"time\"]\n",
    "     .apply(drop_highest)\n",
    "     .groupby(level=(\"async\", \"objects\"))\n",
    "     .aggregate(['mean', 'std', 'count']))\n",
    "\n",
    "times.loc[:, \"stderr\"] = times[\"std\"] / np.sqrt(times[\"count\"])\n",
    "times = times.unstack(level=\"async\")\n",
    "times[\"mean\"].plot.bar(yerr=times[\"stderr\"])"
   ]
  }
 ],
 "metadata": {
  "kernelspec": {
   "display_name": "Python 2",
   "language": "python",
   "name": "python2"
  },
  "language_info": {
   "codemirror_mode": {
    "name": "ipython",
    "version": 2
   },
   "file_extension": ".py",
   "mimetype": "text/x-python",
   "name": "python",
   "nbconvert_exporter": "python",
   "pygments_lexer": "ipython2",
   "version": "2.7.14"
  }
 },
 "nbformat": 4,
 "nbformat_minor": 2
}
